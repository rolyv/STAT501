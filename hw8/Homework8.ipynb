{
 "cells": [
  {
   "cell_type": "markdown",
   "metadata": {},
   "source": [
    "### Question 1\n",
    "\n",
    "a) [Insert scatterplot_y-vs-time]\n",
    "\n",
    "The plot shows a negative association between y and time. As time increases, the y decreases. The plot also shows a curvlinear relationship between y and time. There is also greater variance in the y values for smaller values of time.\n",
    "\n",
    "b) $Y = 2.575 - 0.3240 Time$\n",
    "\n",
    "[Insert scatterplot_residuals-vs-fits_y-vs-time]\n",
    "\n",
    "The plot of residuals vs fitted values indicates a non-linear relationship and non-constant variance of the errors. \n",
    "\n",
    "c) Based on the two previous plots, it may be best to transform the y-variable in this case, because in this case there are issues with the linearity AND the error terms. A transformation on x primarily corrects the non-linearity, but does not do much to correct the variation of the error terms. A transformation on y corrects problems with the error terms and may help the non-linearity.\n",
    "\n",
    "d) $SqrtY = 1.6998 - 0.1724 Time$\n",
    "\n",
    "[Insert scatterplot_sqrtY-vs-time_with_regression]\n",
    "[Insert scatterplot_residuals-vs-fits_sqrty-vs-time]\n",
    "\n",
    "The plot of sqrtY vs time looks much better than the previous plot and shows an R-sq value of 93.85%. However, the plot of residuals versus fitted value still shows an up-down-up pattern indicating non-linearity. \n",
    "\n",
    "e) $LnY = 1.5080 - 0.4500 Time$\n",
    "\n",
    "[Insert scatterplot_lny-vs-time_with_regression]\n",
    "[Insert scatterplot_residuals-vs-fits_lny-vs-time]\n",
    "\n",
    "The plot of lnY vs time looks almost perfectly linear compared to the previous plots and shows an R-sq value of 99.30%. The plot of residuals versus fitted values now shows more of a horizontal band shape with points distributed pretty evenly above and below the residual = 0 line. This indicates good linear fit. The error variance appears constant and normally distributed.\n",
    "\n",
    "f) Of the models examined, the model fitting lnY versus time is the best. It's residual versus fit plot showed the most constant error variance and normal distribution. The Ryan-Joiner test shows a high p-value so we fail to reject the null hypothesis that the terms are normally distributed. The other models all showed signs of non-linearity and non-constant variance of the error terms.\n",
    "\n",
    "[Insert probPlot_residuals_lnY-vs-time]"
   ]
  },
  {
   "cell_type": "markdown",
   "metadata": {},
   "source": [
    "### Question 2\n",
    "\n",
    "a) $Calories = 33.6 + 6.28 carb + 10.81 fat - 0.2053 carb*fat$\n",
    "\n",
    "b) Minitab shows a p-value of 0.034 for the estimate of $\\beta_3$. At the 5% significance level, we reject the null hypothesis that $\\beta_3 = 0$ and conclude that $\\beta_3$ is significant. In the context of this problem, $\\beta_3$ signifies the effect that carb and fat have on Calories in the presence of each other.\n",
    "\n",
    "c) \n",
    "\n",
    "    i.   $Calories = 159.2 + 6.704 fat$\n",
    "    ii.  $Calories = 222 + 4.651 fat$\n",
    "    iii. $Calories = 284.8 + 2.598 fat$\n",
    "    iv.  $Calories = 347.6 + 0.545 fat$\n",
    "\n",
    "d) [Insert scatterplot of multiple lines for different values of carbs]\n",
    "\n",
    "e) The model equation estimated in part (a) shows us that the interaction effect between carbs and fat intake on the amount of calories generated is that as one of the values increases, the relative contribution of the other value decreases. In other words, the equations from part (c) showed that as we increased the value of carbs by units of 10, the slope on fat decreased by roughly 2.05. The lines showed that at higher carb values, calories hardly changed in response ot fat. This relationship would be similar if we fixed fat and plotted out functions of carbs. "
   ]
  },
  {
   "cell_type": "markdown",
   "metadata": {},
   "source": [
    "### Question 3\n",
    "\n",
    "a) Response variable $y$, predictor variable $ln(x)$: $(y_4, x_4)$\n",
    "\n",
    "[Insert image of scatterplot with regression]\n",
    "[Insert image of scatterplot of residuals]\n",
    "[Insert image of probPlot]\n",
    "\n",
    "b) Response variable $ln(y)$, predictor variable $x$: $(y_3, x_3)$\n",
    "\n",
    "[Insert image of scatterplot with regression]\n",
    "[Insert image of scatterplot of residuals]\n",
    "[Insert image of probPlot]\n",
    "\n",
    "c) Response variable $ln(y)$, predictor variable $ln(x)$: $(y_1, x_1)$\n",
    "\n",
    "[Insert image of scatterplot with regression]\n",
    "[Insert image of scatterplot of residuals]\n",
    "[Insert image of probPlot]\n",
    "\n",
    "d) Response variable $y$, predictor variables $x$ and $x_2$: $(y_2, x_2)$\n",
    "\n",
    "[Insert image of scatterplot with regression]\n",
    "[Insert image of scatterplot of residuals]\n",
    "[Insert image of probPlot]"
   ]
  },
  {
   "cell_type": "markdown",
   "metadata": {},
   "source": [
    "### Question 4\n",
    "\n",
    "a) $Velocity = 1.288 + 25.65 Concentration - 56.5 Concentration^2$\n",
    "\n",
    "b) Test statistic: t-statistic = -3.33, d.f. = 5, p-value = 0.029. The p-value indicates that at significance level of less than .05, we can reject the null hypothesis that $\\beta_2 = 0$ and conclude that $\\beta_2 \\ne 0$. In the context of this problem, it indicates that velocity has a significant relationship to the square of concentration.\n",
    "\n",
    "c) [Insert scatterplot residuals vs fitted velocity vs concentration]\n",
    "\n",
    "The plot of residuals vs fitted values for the quadratic model shows a down-up-down pattern which points to an obvious violation of the linearity assumption. \n",
    "\n",
    "d) $Velocity = 3.920 + 0.048 lnConc - 0.1041 lnConc*lnConc$\n",
    "\n",
    "[Insert scatterplot velocity vs lnConc]\n",
    "\n",
    "e) Test statistic: t-statistic = -4.04, d.f. = 5, p-value = 0.016. The p-value indicates that at significance level of less than .05, we can reject the null hypothesis that $\\beta_2 = 0$ and conclude that $\\beta_2 \\ne 0$. In the context of this problem, it indicates that velocity has a significant relationship to the square of the natural log of concentration.\n",
    "\n",
    "f) The 95% prediction interval for velocity at a concentration level of $e^{-3}$ is (2.47741, 3.20441). This can be interpreted as saying that we can be 95% confident that the velocity of a chemical reaction involving a concentration level $e^{-3}$ of substrate will be between 2.47741 and 3.20441. "
   ]
  }
 ],
 "metadata": {
  "kernelspec": {
   "display_name": "Python 2",
   "language": "python",
   "name": "python2"
  },
  "language_info": {
   "codemirror_mode": {
    "name": "ipython",
    "version": 2
   },
   "file_extension": ".py",
   "mimetype": "text/x-python",
   "name": "python",
   "nbconvert_exporter": "python",
   "pygments_lexer": "ipython2",
   "version": "2.7.10"
  }
 },
 "nbformat": 4,
 "nbformat_minor": 0
}
