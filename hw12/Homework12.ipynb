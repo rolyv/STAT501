{
 "cells": [
  {
   "cell_type": "markdown",
   "metadata": {},
   "source": [
    "### Question 1\n",
    "\n",
    "a) There appears to be a slight upward trend in the data. \n",
    "\n",
    "[Insert time series plot NovLevel]\n",
    "\n",
    "b) The plot of NovLevel vs the Lag1level does show a positive, linear pattern suggesting that the first-order autogression model could be useful.\n",
    "\n",
    "[Insert scatterplot novLevel vs lag1level]\n",
    "\n",
    "c) The partial autocorrelation shows a significant spike at a lag of 1 and much lower spikes for the subsequent lags. It indicates that a AR(1) model would likely be feasible for this data set.\n",
    "\n",
    "[Insert PACF novLevel]\n",
    "\n",
    "d) \n",
    "    i.  NovLevel = 3.88 + 0.723 Lag1level\n",
    "    ii. 14.5841 \n",
    "    \n",
    "e) The partial autocorrelation shows only weak correlations, so the residuals could reasonably be assumed to be independent of each other.\n",
    "\n",
    "[Insert PACF_residuals]"
   ]
  },
  {
   "cell_type": "markdown",
   "metadata": {},
   "source": [
    "### Question 2\n",
    "\n",
    "a) $\\hat{p} = \\dfrac{e^{-0.573 - 0.498(GPA)}}{1 + e^{-0.573 - 0.498(GPA)}}$\n",
    "\n",
    "b) The plot shows that the probability of cheating on an exam decreases as the GPA increases.\n",
    "\n",
    "[Insert plot fits vs GPA]\n",
    "\n",
    "c) The odds ratio for GPA is 0.6076. This can be interpreted as saying that for every 1 point increase in GPA, the odds of having cheated on an exam are multiplied by 0.6076.\n",
    "\n",
    "d) $\\hat{p} = \\dfrac{e^{-0.573 - 0.498(3.0)}}{1 + e^{-0.573 - 0.498(3.0)}} = 0.1266$\n",
    "\n",
    "e) $\\hat{p} = \\dfrac{e^{-0.573 - 0.498(4.0)}}{1 + e^{-0.573 - 0.498(4.0)}} = 0.07692$ \n",
    "\n",
    "$Odds = \\dfrac{p}{1 - p} = \\dfrac{0.07692}{1 - 0.07692} = 0.0833$\n",
    "\n",
    "f) In the expanded tables output, we can see the Z-value and p-value for the SkipClass term which shows a p-value of 0.001 indicating a significant predictor.\n",
    "\n",
    "g) The odds ratio for SkipClass is 1.4138. This can be interpreted as saying that for every additional class skipped by a student in a typical week, the odds of having cheated on an exam are multiplied by 1.4138, assuming GPA is held constant.\n",
    "\n",
    "h) $\\dfrac{p}{1-p} = e^{-1.190 - 0.375(3.5) + 0.346(1)} = 0.1157$\n",
    "\n",
    "i) 0.1157 * 1.4138 = 0.1636\n",
    "\n",
    "j) Of the 4 additional categorical predictors, it looks like SmokeCig and FakeID are significant predictors of ever having cheated on an exam with p-values of .005 and .010, respectively. ChtdSO is on the fence since it's p-value is less than 0.1, but I will not consider it significant here. The 4th predictor, SmokeMJ, has a very high p-value of .412 and therefore not a significant predictor of having cheated on an exam. \n",
    "\n",
    "The odds ratio of SmokeCig is 2.2769 which says that the odds of ever having cheated on an exam for students who smoke cigarettes is 2.2769 times higher than that of students who do not smoke cigarettes (all else being constant). \n",
    "\n",
    "The odds ratio of FakeID is 1.9454 which says that the odds of ever having cheated on an exam for students who have ever used a fake id to obtain alcohol is 1.9454 times higher than that of students who have never used a fake id (all else being constant)."
   ]
  },
  {
   "cell_type": "markdown",
   "metadata": {},
   "source": [
    "### Question 3\n",
    "\n",
    "a) $Falls = e^{0.489 - 1.069(Inter) - 0.047(Gender) + 0.00947(Balance) + 0.00857(Strength)}$\n",
    "\n",
    "b) \n",
    "\n",
    "$H_0: \\beta_{Gender} = 0$ <br>\n",
    "$H_a: \\beta_{Gender} \\ne 0$ <br>\n",
    "Test statistic: $G^2 = 108.941 - 108.790 = 0.151$ <br>\n",
    "p-value = 0.698\n",
    "\n",
    "Based on the p-value, we do not have enough evidence to reject the null hypothesis, therefore we conclude that $\\beta_{Gender} = 0$.\n",
    "\n",
    "c) The Residuals vs order plot does not reveal any outlying cases, values are generally in the -2 to 2 range.\n",
    "\n",
    "[Insert residuals vs fits plot]\n",
    "\n",
    "d) $Falls = e^{0.444 - 1.078(Inter) + 0.00947(Balance) + 0.00898(Strength)}$\n",
    "\n",
    "Based on this estimate equation, aerobic exercise does reduce the frequency of falls when controlling for balance and strength.\n",
    "\n",
    "e) Based on the Pearson and Deviance statistics' p-values, 0.243 and 0.173, respectively, there is no evidence of lack-of-fit. \n",
    "\n",
    "$R^2 = 1 - \\dfrac{-2l(\\hat{\\beta})}{-2l(\\hat{\\beta_0}} = 1 - \\dfrac{108.941}{199.194} = 0.4531$"
   ]
  }
 ],
 "metadata": {
  "kernelspec": {
   "display_name": "Python 2",
   "language": "python",
   "name": "python2"
  },
  "language_info": {
   "codemirror_mode": {
    "name": "ipython",
    "version": 2
   },
   "file_extension": ".py",
   "mimetype": "text/x-python",
   "name": "python",
   "nbconvert_exporter": "python",
   "pygments_lexer": "ipython2",
   "version": "2.7.10"
  }
 },
 "nbformat": 4,
 "nbformat_minor": 0
}
