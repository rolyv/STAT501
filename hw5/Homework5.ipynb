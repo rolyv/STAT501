{
 "cells": [
  {
   "cell_type": "markdown",
   "metadata": {},
   "source": [
    "### Question 1\n",
    "\n",
    "a) Based on the plot, I would say that there is no correlation between ingredA and ingredB. You can see the fixed points corresponding to all the possible combinations of ingredA (1, 2, 3) and ingredB (1, 2, 3, 4).\n",
    "[Insert scatterplot ingredA vs ingredB]\n",
    "\n",
    "b) The plot of ingredA vs Yield shows a slight indication of a positive linear relationship. It's not a strong one because the Yield has a lot of variability for each level of ingredA. The plot of ingredB vs Yield appears to have a stronger positive correlation. It looks to me that ingredB is a stronger predictor.\n",
    "[Insert scatterplot ingredA vs yield]\n",
    "[Insert scatterplot ingredB vs yield]\n",
    "\n",
    "c) $Yield = 27.75 + 1.763 IngredA$\n",
    "\n",
    "    i) The slope is 1.763. This can be interpreted as saying that increasing ingredA by 1 unit would increase yield by about 1.763 units.\n",
    "    ii) The $R^2$ value is 13.05%\n",
    "    iii) The $p$-value of the regression is .083 which indicates that it may not be statisticlly significant.\n",
    "\n",
    "d) $Yield = 25.07 + 2.482 IngredB$\n",
    "\n",
    "    i) The slope is 2.482. This can be interpreted as saying that increasing ingredB by 1 unit would increase yield by about 2.482 units.\n",
    "    ii) The $R^2$ value is 48.50%\n",
    "    iii) The $p$-value of the regression is is 0.000 which indicates it is statistically significant.\n",
    "    \n",
    "e) $Yield = 21.54 + 1.763 IngredA + 2.482 IngredB$\n",
    "    \n",
    "    i) The values of the coefficients are 1.763 and 2.482. This occurs because ingredA and ingredB are not correlated.\n",
    "    ii) The $R^2$ value is 61.55%. This is indeed equal to the sum of 13.05% and 48.5%. This occurs for the same reason as part (i), namely that the two predictor variables are not correlated.\n",
    "    iii) In the multiple regression, ingredA has a $p$-value of .014, which is statistically significant. "
   ]
  },
  {
   "cell_type": "markdown",
   "metadata": {},
   "source": [
    "### Question 2\n",
    "\n",
    "a) Based on the scatterplot, there appears to be a strong positive correlation between number of beds and census. This makes sense since more beds means the hospital has more capacity. \n",
    "[Insert scatterplot beds vs census]\n",
    "\n",
    "b) $InfctRsk = 3.716 + 0.002457 Beds$  The *p*-value of the regression is 0.000 which indicates a statistically significant linear relationship between the two variables.\n",
    "\n",
    "c) $InfctRsk = 3.697 + 0.003374 Census$  The *p*-value of the regression is 0.000 which indicates a statistically significant linear relationship between the two variables.\n",
    "\n",
    "d) $InfctRsk = -0.692 + 0.3157 Stay + 0.02050 Xray - 0.00019 Beds + 0.00216 Census$  \n",
    "\n",
    "    i) The *p*-value of the regression is 0.000, so we can conclude that there is a statistically significant relationship. \n",
    "    ii) The *p*-value of beds is 0.950 so we can conclude that it is not statistically significant in this model.\n",
    "    iii) The *p*-value of census is 0.587 so we can conclude that it too is not statistically significant in this model.\n",
    "    iv) The most likely reason that the significance results for beds and census changed from the simple model to the multiple model is that the other variables, xray and stay, were much better predictors of infection risk. Therefore, in the presence of these other predictors, beds and census did not have any significant effect on the residuals of the model.\n",
    "    \n",
    "e) $InfctRsk = -0.701 + 0.3166 Stay + 0.02049 Xray + 0.001916 Census$\n",
    "\n",
    "    i) In this model, every predictor has a *p*-value less than 0.05, so we can conclude that they are all statistically significant.\n",
    "    ii) The MSE for this model is 1.091. This is a bit lower than the MSE for the 4-variable model: 1.1017. This is evidence that the 3-variable model is preferable, because it indicates less variation of the data points around the regression line.\n",
    "\n",
    "f) The residiual vs fit plot shows a random bounce of values around the residual = 0 line which indicates good linear fit and consistent variance of the error terms. The histogram shows a near normal distribution of the residuals which shows the error distribtion is close to normal. "
   ]
  },
  {
   "cell_type": "markdown",
   "metadata": {},
   "source": [
    "### Question 3\n",
    "\n",
    "a) $Y = 10.200 + 4.000 X$"
   ]
  },
  {
   "cell_type": "code",
   "execution_count": 1,
   "metadata": {
    "collapsed": false
   },
   "outputs": [],
   "source": [
    "# part (b)\n",
    "import numpy as np\n",
    "from numpy.linalg import inv\n",
    "\n",
    "X = np.matrix([[1,1], [1,0], [1,2], [1,0], [1,3], [1,1], [1,0], [1,1], [1,2], [1,0]])\n",
    "Y = np.matrix([[16], [9], [17], [12], [22], [13], [8], [15], [19], [11]])"
   ]
  },
  {
   "cell_type": "code",
   "execution_count": 2,
   "metadata": {
    "collapsed": false
   },
   "outputs": [
    {
     "data": {
      "text/plain": [
       "matrix([[ 0.2, -0.1],\n",
       "        [-0.1,  0.1]])"
      ]
     },
     "execution_count": 2,
     "metadata": {},
     "output_type": "execute_result"
    }
   ],
   "source": [
    "# part b-i)\n",
    "inv(X.transpose() * X)"
   ]
  },
  {
   "cell_type": "code",
   "execution_count": 3,
   "metadata": {
    "collapsed": false
   },
   "outputs": [
    {
     "data": {
      "text/plain": [
       "matrix([[ 10.2],\n",
       "        [  4. ]])"
      ]
     },
     "execution_count": 3,
     "metadata": {},
     "output_type": "execute_result"
    }
   ],
   "source": [
    "# part b-ii)\n",
    "b = inv(X.transpose() * X) * X.transpose() * Y\n",
    "b"
   ]
  },
  {
   "cell_type": "code",
   "execution_count": 4,
   "metadata": {
    "collapsed": false
   },
   "outputs": [
    {
     "data": {
      "text/plain": [
       "matrix([[ 1.8],\n",
       "        [-1.2],\n",
       "        [-1.2],\n",
       "        [ 1.8],\n",
       "        [-0.2],\n",
       "        [-1.2],\n",
       "        [-2.2],\n",
       "        [ 0.8],\n",
       "        [ 0.8],\n",
       "        [ 0.8]])"
      ]
     },
     "execution_count": 4,
     "metadata": {},
     "output_type": "execute_result"
    }
   ],
   "source": [
    "# part b-iii)\n",
    "e = Y - X * b\n",
    "e"
   ]
  },
  {
   "cell_type": "code",
   "execution_count": 5,
   "metadata": {
    "collapsed": false
   },
   "outputs": [
    {
     "data": {
      "text/plain": [
       "matrix([[ 17.6]])"
      ]
     },
     "execution_count": 5,
     "metadata": {},
     "output_type": "execute_result"
    }
   ],
   "source": [
    "# part b-iv)\n",
    "SSE = Y.transpose() * Y - b.transpose() * X.transpose() * Y\n",
    "SSE"
   ]
  },
  {
   "cell_type": "code",
   "execution_count": 6,
   "metadata": {
    "collapsed": false
   },
   "outputs": [
    {
     "data": {
      "text/plain": [
       "matrix([[ 0.44, -0.22],\n",
       "        [-0.22,  0.22]])"
      ]
     },
     "execution_count": 6,
     "metadata": {},
     "output_type": "execute_result"
    }
   ],
   "source": [
    "# part b-v)\n",
    "MSE = (SSE / (10 - 2)).item(0,0)\n",
    "se_squared_b = MSE * inv(X.transpose() * X)\n",
    "se_squared_b"
   ]
  },
  {
   "cell_type": "code",
   "execution_count": 7,
   "metadata": {
    "collapsed": false
   },
   "outputs": [
    {
     "data": {
      "text/plain": [
       "matrix([[ 18.2]])"
      ]
     },
     "execution_count": 7,
     "metadata": {},
     "output_type": "execute_result"
    }
   ],
   "source": [
    "# part b-vi)\n",
    "X_h = np.matrix([[1], [2]])\n",
    "Y_hat = X_h.transpose() * b\n",
    "Y_hat"
   ]
  },
  {
   "cell_type": "code",
   "execution_count": 8,
   "metadata": {
    "collapsed": false
   },
   "outputs": [
    {
     "data": {
      "text/plain": [
       "matrix([[ 0.44]])"
      ]
     },
     "execution_count": 8,
     "metadata": {},
     "output_type": "execute_result"
    }
   ],
   "source": [
    "# part b-vii)\n",
    "se_squared_Y_hat = X_h.transpose() * se_squared_b * X_h\n",
    "se_squared_Y_hat"
   ]
  },
  {
   "cell_type": "code",
   "execution_count": 9,
   "metadata": {
    "collapsed": false
   },
   "outputs": [
    {
     "data": {
      "text/plain": [
       "-0.70710678118654746"
      ]
     },
     "execution_count": 9,
     "metadata": {},
     "output_type": "execute_result"
    }
   ],
   "source": [
    "# part (c)\n",
    "cov_b0_b1 = se_squared_b.item(0,1) # -0.22\n",
    "s_b0 = np.sqrt(se_squared_b.item(0,0))\n",
    "s_b1 = np.sqrt(se_squared_b.item(1,1))\n",
    "corr_b0_b1 = cov_b0_b1 / (s_b0 * s_b1)\n",
    "corr_b0_b1"
   ]
  },
  {
   "cell_type": "markdown",
   "metadata": {},
   "source": [
    "### Question 4\n",
    "\n",
    "a) **95.21%** of the variation in degree liking (Y) is accounted for by moisture content ($X_1$) and sweetness ($X_2$).\n",
    "\n",
    "b) The estimated standard deviation of the regression is **2.69330**.\n",
    "\n",
    "c) The F-statistic of **129.08** with a p-value of **0.000** indicates that the model containing $X_1$ and $X_2$ is more useful in predicting Y than not taking into account the two predictors.\n",
    "\n",
    "d) The t-statistic of **14.70** with a p-value of **0.000** indicates that the slope parameter for $X_1$ is significantly different from 0 in this model.\n",
    "\n",
    "e) The t-statistic of **6.50** with a p-value of **0.000** indicates that the slope parameter for $X_2$ is significantly different from 0 in this model.\n",
    "\n",
    "f) We estimate that E(Y) increases by **4.425** units when $X_1$ increases by **1** unit and $X_2$ is held constant.\n",
    "\n",
    "g) We estimate that E(Y) increases by **4.375** units when $X_2$ increases by **1** unit and $X_1$ is held constant.\n",
    "\n",
    "h) We predict that the degree of brand liking when moisture content is 7 and sweetness is 3 is **81.75**."
   ]
  }
 ],
 "metadata": {
  "kernelspec": {
   "display_name": "Python 2",
   "language": "python",
   "name": "python2"
  },
  "language_info": {
   "codemirror_mode": {
    "name": "ipython",
    "version": 2
   },
   "file_extension": ".py",
   "mimetype": "text/x-python",
   "name": "python",
   "nbconvert_exporter": "python",
   "pygments_lexer": "ipython2",
   "version": "2.7.10"
  }
 },
 "nbformat": 4,
 "nbformat_minor": 0
}
